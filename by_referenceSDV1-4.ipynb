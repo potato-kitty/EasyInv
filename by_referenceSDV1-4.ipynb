{
 "cells": [
  {
   "cell_type": "code",
   "execution_count": null,
   "metadata": {
    "pycharm": {
     "name": "#%%\n"
    }
   },
   "outputs": [],
   "source": [
    "from typing import Optional, Union, Tuple, List, Callable, Dict\n",
    "import torch\n",
    "from diffusers import StableDiffusionPipeline\n",
    "import torch.nn.functional as nnf\n",
    "import numpy as np\n",
    "import abc\n",
    "import utilsV14\n",
    "import seq_aligner\n",
    "import os\n",
    "import torch.nn as nn\n",
    "from attention_controller import *\n",
    "import cv2\n",
    "import matplotlib.pyplot as plt\n",
    "import diffusers\n",
    "from PIL import Image, ImageDraw, ImageFont\n",
    "from skimage import morphology\n",
    "\n",
    "print(\"diffusers:\",diffusers.__version__)\n",
    "\n",
    "#os.environ[\"KMP_DUPLICATE_LIB_OK\"]=\"TRUE\""
   ]
  },
  {
   "cell_type": "code",
   "execution_count": null,
   "metadata": {},
   "outputs": [],
   "source": [
    "os.environ['CUDA_VISIBLE_DEVICES'] = '1'"
   ]
  },
  {
   "cell_type": "code",
   "execution_count": null,
   "metadata": {
    "pycharm": {
     "name": "#%%\n"
    },
    "tags": []
   },
   "outputs": [],
   "source": [
    "MY_TOKEN = ''\n",
    "LOW_RESOURCE = False\n",
    "NUM_DIFFUSION_STEPS = 50\n",
    "GUIDANCE_SCALE = 7.5\n",
    "MAX_NUM_WORDS = 77\n",
    "device = torch.device('cuda:0') if torch.cuda.is_available() else torch.device('cpu')\n",
    "ldm_stable = StableDiffusionPipeline.from_pretrained(\"./CompVis/stable-diffusion-v1-4\", use_auth_token=MY_TOKEN,torch_dtype = torch.float16).to(device)\n",
    "# \n",
    "#ldm_stable = StableDiffusionPipeline.from_pretrained(\"./models--stabilityai--stable-diffusion-xl-base-1.0\", use_auth_token=MY_TOKEN).to(device)\n",
    "tokenizer = ldm_stable.tokenizer\n",
    "output_folder = \"./modify_by_reference/experiments\"\n",
    "if not os.path.exists(output_folder):\n",
    "    os.mkdir(output_folder)\n",
    "#print(\"ldm_stable: \",ldm_stable)\n",
    "#ldm_stable = nn.DataParallel(ldm_stable,device_ids=[1],find_unused_parameters=True)"
   ]
  },
  {
   "cell_type": "code",
   "execution_count": null,
   "metadata": {
    "pycharm": {
     "name": "#%%\n"
    }
   },
   "outputs": [],
   "source": [
    "def run_and_display(prompts, controller, if_process = False, in_img = None, full_img = None,if_save = False, latent=None, run_baseline=False, generator=None,sqr_replace=False,switch = False, bbox = None,img_name = None , output_folder = None):\n",
    "    if run_baseline:\n",
    "        images, latent = run_and_display(prompts, EmptyControl(), latent=latent, run_baseline=False, generator=generator)\n",
    "    images, x_t = utilsV14.text2image_ldm_stable(ldm_stable, prompts, controller, real_img=in_img, full_img = full_img, latent=latent, num_inference_steps=NUM_DIFFUSION_STEPS, guidance_scale=GUIDANCE_SCALE, generator=generator, low_resource=LOW_RESOURCE,is_switch=switch,bboxes=bbox)\n",
    "    #print(\"image: \",images.shape)\n",
    "    #show_cross_attention(controller, res=16, from_where=(\"up\", \"down\"))\n",
    "    #utilsV14.view_images(images,if_save, img_name = img_name, output_folder=output_folder)\n",
    "    return images, x_t"
   ]
  },
  {
   "cell_type": "code",
   "execution_count": null,
   "metadata": {
    "pycharm": {
     "name": "#%%\n"
    }
   },
   "outputs": [],
   "source": [
    "g_cpu = torch.Generator().manual_seed(8888)\n",
    "\n",
    "prompts = [\"\"]\n",
    "\n",
    "controller = AttentionStore()\n",
    "\n",
    "start_idx = 0\n",
    "step_len = 4\n",
    "\n",
    "dir_coco = \"./COCO/out_img\"\n",
    "out_dix = \"./inversion_exp_out_SDV1-4\"\n",
    "method = \"/ours_SD14_half\"\n",
    "\n",
    "out_folder = out_dix+method\n",
    "if not os.path.exists(out_folder):\n",
    "    os.mkdir(out_folder)\n",
    "\n",
    "total_img_num = len(os.listdir(dir_coco))\n",
    "print(\"total amount of image is\",total_img_num)\n",
    "\n",
    "name_idx = start_idx\n",
    "while name_idx < total_img_num:\n",
    "\n",
    "    obj_name = 'hat'\n",
    "\n",
    "    in_path = './img_output/' + obj_name + '.jpg'\n",
    "    out_path = './special_cases' + method + '_' + obj_name + '.jpg'\n",
    "    \n",
    "    real_img = cv2.imread(in_path)\n",
    "    real_img = cv2.cvtColor(real_img, cv2.COLOR_BGR2RGB)\n",
    "\n",
    "    real_img_full = np.array(Image.fromarray(real_img).resize((512, 512)))\n",
    "    real_img_full = np.expand_dims(real_img_full,0)\n",
    "\n",
    "    image, x_t = run_and_display(prompts, controller, if_save = False, latent=None, run_baseline=False, generator=g_cpu, full_img=real_img_full)\n",
    "    #show_cross_attention(controller, res=16, from_where=(\"up\", \"down\"))\n",
    "\n",
    "    image = np.squeeze(image)\n",
    "    image = cv2.cvtColor(image, cv2.COLOR_RGBA2BGRA) \n",
    "    cv2.imwrite(out_path,image)\n",
    "    torch.cuda.empty_cache()\n",
    "    name_idx = name_idx + step_len\n",
    "    break"
   ]
  }
 ],
 "metadata": {
  "environment": {
   "kernel": "python3",
   "name": "pytorch-gpu.1-11.m94",
   "type": "gcloud",
   "uri": "gcr.io/deeplearning-platform-release/pytorch-gpu.1-11:m94"
  },
  "kernelspec": {
   "display_name": "Python 3 (ipykernel)",
   "language": "python",
   "name": "python3"
  },
  "language_info": {
   "codemirror_mode": {
    "name": "ipython",
    "version": 3
   },
   "file_extension": ".py",
   "mimetype": "text/x-python",
   "name": "python",
   "nbconvert_exporter": "python",
   "pygments_lexer": "ipython3",
   "version": "3.10.12"
  }
 },
 "nbformat": 4,
 "nbformat_minor": 4
}
