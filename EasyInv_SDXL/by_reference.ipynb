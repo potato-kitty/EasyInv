{
 "cells": [
  {
   "cell_type": "code",
   "execution_count": null,
   "metadata": {
    "pycharm": {
     "name": "#%%\n"
    }
   },
   "outputs": [],
   "source": [
    "import torch\n",
    "from diffusers import DiffusionPipeline, DDIMScheduler\n",
    "import numpy as np\n",
    "import utils\n",
    "import os\n",
    "import cv2\n",
    "import diffusers\n",
    "from PIL import Image\n",
    "\n",
    "print(\"diffusers:\",diffusers.__version__)\n"
   ]
  },
  {
   "cell_type": "code",
   "execution_count": 2,
   "metadata": {},
   "outputs": [],
   "source": [
    "os.environ['CUDA_VISIBLE_DEVICES'] = '1'"
   ]
  },
  {
   "cell_type": "code",
   "execution_count": null,
   "metadata": {
    "pycharm": {
     "name": "#%%\n"
    },
    "tags": []
   },
   "outputs": [],
   "source": [
    "MY_TOKEN = ''\n",
    "LOW_RESOURCE = False\n",
    "NUM_DIFFUSION_STEPS = 50\n",
    "GUIDANCE_SCALE = 7.5\n",
    "MAX_NUM_WORDS = 77\n",
    "device = torch.device('cuda:4') if torch.cuda.is_available() else torch.device('cpu')\n",
    "scheduler = DDIMScheduler(beta_start=0.00085, beta_end=0.012, beta_schedule=\"scaled_linear\", clip_sample=False, set_alpha_to_one=False)\n",
    "ldm_stable = DiffusionPipeline.from_pretrained(\"./models--stabilityai--stable-diffusion-xl-base-1.0\",scheduler = scheduler).to(device)\n",
    "ldm_stable.enable_vae_tiling()\n",
    "tokenizer = ldm_stable.tokenizer\n",
    "output_folder = \"./modify_by_reference/experiments\"\n",
    "if not os.path.exists(output_folder):\n",
    "    os.mkdir(output_folder)"
   ]
  },
  {
   "cell_type": "code",
   "execution_count": 4,
   "metadata": {
    "pycharm": {
     "name": "#%%\n"
    }
   },
   "outputs": [],
   "source": [
    "def run_and_display(prompts, in_img = None, full_img = None, generator=None):\n",
    "\n",
    "    images = utils.text2image_ldm_stable(ldm_stable, prompts, real_img=in_img, full_img = full_img, num_inference_steps=NUM_DIFFUSION_STEPS, generator=generator)\n",
    "\n",
    "    return images"
   ]
  },
  {
   "cell_type": "code",
   "execution_count": null,
   "metadata": {
    "pycharm": {
     "name": "#%%\n"
    }
   },
   "outputs": [],
   "source": [
    "g_cpu = torch.Generator().manual_seed(8888)\n",
    "start_idx = 0\n",
    "step_len = 4\n",
    "\n",
    "dir_coco = \"./out_img\"\n",
    "out_dix = \"./modify_by_reference_SDXL/inversion_exp_out\"\n",
    "method = \"/tst\"\n",
    "\n",
    "out_folder = out_dix+method\n",
    "if not os.path.exists(out_folder):\n",
    "    os.mkdir(out_folder)\n",
    "\n",
    "total_img_num = len(os.listdir(dir_coco))\n",
    "print(\"total amount of image is\",total_img_num)\n",
    "\n",
    "name_idx = start_idx\n",
    "while name_idx < total_img_num:\n",
    "    out_path = out_folder + \"/\" + str(name_idx) + \".jpeg\"\n",
    "    if os.path.exists(out_path):\n",
    "        name_idx = name_idx + step_len\n",
    "        continue\n",
    "\n",
    "    real_img = cv2.imread(dir_coco + \"/\" + str(name_idx) + \".jpg\")\n",
    "    real_img = cv2.cvtColor(real_img, cv2.COLOR_BGR2RGB)\n",
    "\n",
    "    real_img_full = np.array(Image.fromarray(real_img).resize((1024,1024))) \n",
    "\n",
    "    prompts = [\"\"]\n",
    "\n",
    "    image = run_and_display(prompts, generator=g_cpu, full_img=real_img_full)\n",
    "\n",
    "    image = np.squeeze(image)\n",
    "    image = cv2.cvtColor(image, cv2.COLOR_RGBA2BGRA) \n",
    "    cv2.imwrite(out_path,image)\n",
    "    torch.cuda.empty_cache()\n",
    "    name_idx = name_idx + step_len"
   ]
  }
 ],
 "metadata": {
  "environment": {
   "kernel": "python3",
   "name": "pytorch-gpu.1-11.m94",
   "type": "gcloud",
   "uri": "gcr.io/deeplearning-platform-release/pytorch-gpu.1-11:m94"
  },
  "kernelspec": {
   "display_name": "Python 3",
   "language": "python",
   "name": "python3"
  },
  "language_info": {
   "codemirror_mode": {
    "name": "ipython",
    "version": 3
   },
   "file_extension": ".py",
   "mimetype": "text/x-python",
   "name": "python",
   "nbconvert_exporter": "python",
   "pygments_lexer": "ipython3",
   "version": "3.10.12"
  }
 },
 "nbformat": 4,
 "nbformat_minor": 4
}
